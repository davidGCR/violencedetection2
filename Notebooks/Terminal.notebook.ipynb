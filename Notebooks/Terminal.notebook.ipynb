{
 "cells": [
  {
   "cell_type": "code",
   "execution_count": 14,
   "metadata": {},
   "outputs": [],
   "source": [
    "import numpy as np\n",
    "\n",
    "import json\n",
    "\n",
    "my_dic = Dicty\n",
    "l = [\n",
    "    {'file': 'frame001',\n",
    "     'data1':[91.89995527267456, 86.65858805179596, 44.042766094207764, 160.700261592865],\n",
    "     'data2': [91.0, 8, 44.042766094207764, 160.700261592865],\n",
    "     'data3': [9, 86.65858805179596, 44.042766094207764, 160.700261592865]\n",
    "    },\n",
    "    {'file': 'frame002',\n",
    "     'data1':[91.89995527267456, 86.65858805179596, 44.042766094207764, 160.700261592865],\n",
    "     'data2': [91.0, 8, 44.042766094207764, 160.700261592865]\n",
    "    },\n",
    "    {'file': 'frame003',\n",
    "     'data1':[-1,-1,-1,-1],\n",
    "    },\n",
    "    \n",
    "]\n",
    "l[0]['data100']=[3,4,5,6]\n",
    "path = 'json'\n",
    "with open(path, 'w') as fout:\n",
    "    json.dump(l, fout)"
   ]
  },
  {
   "cell_type": "code",
   "execution_count": 15,
   "metadata": {},
   "outputs": [
    {
     "name": "stdout",
     "output_type": "stream",
     "text": [
      "{'file': 'frame001', 'data1': [91.89995527267456, 86.65858805179596, 44.042766094207764, 160.700261592865], 'data2': [91.0, 8, 44.042766094207764, 160.700261592865], 'data3': [9, 86.65858805179596, 44.042766094207764, 160.700261592865], 'data100': [3, 4, 5, 6]}\n",
      "frame001\n",
      "--- [91.89995527267456, 86.65858805179596, 44.042766094207764, 160.700261592865]\n",
      "frame002\n",
      "--- [91.89995527267456, 86.65858805179596, 44.042766094207764, 160.700261592865]\n",
      "frame003\n",
      "--- [-1, -1, -1, -1]\n"
     ]
    }
   ],
   "source": [
    "d = json.load(open('json', \"r\"))\n",
    "print(d[0])\n",
    "# print(type(d[0]['data1'][0]))\n",
    "for di in d:\n",
    "    print(di['file'])\n",
    "    print('---',di['data1'])"
   ]
  }
 ],
 "metadata": {
  "kernelspec": {
   "display_name": "Python 3",
   "language": "python",
   "name": "python3"
  },
  "language_info": {
   "codemirror_mode": {
    "name": "ipython",
    "version": 3
   },
   "file_extension": ".py",
   "mimetype": "text/x-python",
   "name": "python",
   "nbconvert_exporter": "python",
   "pygments_lexer": "ipython3",
   "version": "3.8.5"
  }
 },
 "nbformat": 4,
 "nbformat_minor": 4
}
